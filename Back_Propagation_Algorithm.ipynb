{
 "cells": [
  {
   "cell_type": "code",
   "execution_count": 30,
   "id": "5b8413ed",
   "metadata": {},
   "outputs": [],
   "source": [
    "import numpy as np "
   ]
  },
  {
   "cell_type": "code",
   "execution_count": 31,
   "id": "313cc123",
   "metadata": {},
   "outputs": [],
   "source": [
    "def sigmoid(x):\n",
    "    return 1 / (1 + np.exp(-x))\n",
    "\n",
    "def sigmoid_derivative(x):\n",
    "    return x * (1 - x)\n"
   ]
  },
  {
   "cell_type": "code",
   "execution_count": 32,
   "id": "da1abc65",
   "metadata": {},
   "outputs": [],
   "source": [
    "inputs= np.array([[0],\n",
    "              [1]])"
   ]
  },
  {
   "cell_type": "code",
   "execution_count": 33,
   "id": "4b7c654e",
   "metadata": {},
   "outputs": [],
   "source": [
    "expected_output = np.array([[1],[0]])"
   ]
  },
  {
   "cell_type": "code",
   "execution_count": 34,
   "id": "bc6fca22",
   "metadata": {},
   "outputs": [],
   "source": [
    "learning_rate = 0.1\n",
    "iterations = 10000"
   ]
  },
  {
   "cell_type": "code",
   "execution_count": 37,
   "id": "00a1ecf5",
   "metadata": {},
   "outputs": [
    {
     "data": {
      "text/plain": [
       "array([[0.04702786]])"
      ]
     },
     "execution_count": 37,
     "metadata": {},
     "output_type": "execute_result"
    }
   ],
   "source": [
    "weights=np.random.rand(1,1)\n",
    "weights"
   ]
  },
  {
   "cell_type": "code",
   "execution_count": 38,
   "id": "ebf5ae74",
   "metadata": {},
   "outputs": [],
   "source": [
    "for _ in range(iterations):\n",
    "    input_layer = inputs\n",
    "    outputs = sigmoid(np.dot(input_layer,weights))\n",
    "    \n",
    "    error = expected_output - outputs\n",
    "    \n",
    "    adjustments = error *sigmoid_derivative(outputs)\n",
    "    weights+= np.dot(input_layer.T,adjustments)*learning_rate\n",
    "    "
   ]
  },
  {
   "cell_type": "code",
   "execution_count": 39,
   "id": "04ac3ecc",
   "metadata": {},
   "outputs": [
    {
     "name": "stdout",
     "output_type": "stream",
     "text": [
      "Weights after Training\n",
      "[[-3.72872483]]\n"
     ]
    }
   ],
   "source": [
    "print(\"Weights after Training\")\n",
    "print(weights)"
   ]
  },
  {
   "cell_type": "code",
   "execution_count": 40,
   "id": "2eabd8f6",
   "metadata": {},
   "outputs": [
    {
     "name": "stdout",
     "output_type": "stream",
     "text": [
      "Outputs after training\n",
      "[[0.5       ]\n",
      " [0.02346109]]\n"
     ]
    }
   ],
   "source": [
    "print(\"Outputs after training\")\n",
    "print(outputs)"
   ]
  },
  {
   "cell_type": "code",
   "execution_count": null,
   "id": "a12ca187",
   "metadata": {},
   "outputs": [],
   "source": []
  }
 ],
 "metadata": {
  "kernelspec": {
   "display_name": "Python 3 (ipykernel)",
   "language": "python",
   "name": "python3"
  },
  "language_info": {
   "codemirror_mode": {
    "name": "ipython",
    "version": 3
   },
   "file_extension": ".py",
   "mimetype": "text/x-python",
   "name": "python",
   "nbconvert_exporter": "python",
   "pygments_lexer": "ipython3",
   "version": "3.9.13"
  }
 },
 "nbformat": 4,
 "nbformat_minor": 5
}
