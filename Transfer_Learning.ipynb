{
 "cells": [
  {
   "cell_type": "code",
   "execution_count": 1,
   "id": "a0002765-27c8-487b-8746-502cda29cf8f",
   "metadata": {},
   "outputs": [
    {
     "name": "stderr",
     "output_type": "stream",
     "text": [
      "2024-08-09 11:29:27.820295: I tensorflow/core/util/port.cc:113] oneDNN custom operations are on. You may see slightly different numerical results due to floating-point round-off errors from different computation orders. To turn them off, set the environment variable `TF_ENABLE_ONEDNN_OPTS=0`.\n",
      "2024-08-09 11:29:27.857902: I external/local_tsl/tsl/cuda/cudart_stub.cc:31] Could not find cuda drivers on your machine, GPU will not be used.\n",
      "2024-08-09 11:29:28.048952: E external/local_xla/xla/stream_executor/cuda/cuda_dnn.cc:9261] Unable to register cuDNN factory: Attempting to register factory for plugin cuDNN when one has already been registered\n",
      "2024-08-09 11:29:28.049043: E external/local_xla/xla/stream_executor/cuda/cuda_fft.cc:607] Unable to register cuFFT factory: Attempting to register factory for plugin cuFFT when one has already been registered\n",
      "2024-08-09 11:29:28.080851: E external/local_xla/xla/stream_executor/cuda/cuda_blas.cc:1515] Unable to register cuBLAS factory: Attempting to register factory for plugin cuBLAS when one has already been registered\n",
      "2024-08-09 11:29:28.148221: I external/local_tsl/tsl/cuda/cudart_stub.cc:31] Could not find cuda drivers on your machine, GPU will not be used.\n",
      "2024-08-09 11:29:28.149588: I tensorflow/core/platform/cpu_feature_guard.cc:182] This TensorFlow binary is optimized to use available CPU instructions in performance-critical operations.\n",
      "To enable the following instructions: AVX2 AVX_VNNI FMA, in other operations, rebuild TensorFlow with the appropriate compiler flags.\n",
      "2024-08-09 11:29:28.732136: W tensorflow/compiler/tf2tensorrt/utils/py_utils.cc:38] TF-TRT Warning: Could not find TensorRT\n"
     ]
    }
   ],
   "source": [
    "import tensorflow as tf\n",
    "from tensorflow.keras.datasets import cifar10\n",
    "from tensorflow.keras.models import Sequential\n",
    "from tensorflow.keras.layers import Dense, Flatten\n",
    "from tensorflow.keras.applications import VGG16  # Using VGG16 as an example\n",
    "from tensorflow.keras.preprocessing.image import ImageDataGenerator\n"
   ]
  },
  {
   "cell_type": "code",
   "execution_count": 2,
   "id": "d4b96413-4be7-42e9-8f1f-e30144d0a1c0",
   "metadata": {},
   "outputs": [],
   "source": [
    "(x_train, y_train), (x_test, y_test) = cifar10.load_data()\n",
    "\n",
    "# Normalize pixel values to the range [0, 1]\n",
    "x_train, x_test = x_train / 255.0, x_test / 255.0"
   ]
  },
  {
   "cell_type": "code",
   "execution_count": 3,
   "id": "f163502e-5180-4444-a4a3-467622bce382",
   "metadata": {},
   "outputs": [
    {
     "name": "stdout",
     "output_type": "stream",
     "text": [
      "Downloading data from https://storage.googleapis.com/tensorflow/keras-applications/vgg16/vgg16_weights_tf_dim_ordering_tf_kernels_notop.h5\n",
      "58889256/58889256 [==============================] - 5s 0us/step\n"
     ]
    }
   ],
   "source": [
    "base_model = VGG16(weights='imagenet', include_top=False, input_shape=(32, 32, 3))"
   ]
  },
  {
   "cell_type": "code",
   "execution_count": 4,
   "id": "7927e352-1bcc-4392-8e13-1eb113ed5169",
   "metadata": {},
   "outputs": [],
   "source": [
    "base_model.trainable = False"
   ]
  },
  {
   "cell_type": "code",
   "execution_count": 5,
   "id": "e52bad92-262c-4717-9bd4-84c0b0ae4c50",
   "metadata": {},
   "outputs": [],
   "source": [
    "model = Sequential([\n",
    "    base_model,\n",
    "    tf.keras.layers.Flatten(),\n",
    "    tf.keras.layers.Dense(128, activation='relu'),\n",
    "    tf.keras.layers.Dense(10, activation='softmax')  # 10 classes for CIFAR-10\n",
    "])\n",
    "\n",
    "# Compile the model\n",
    "model.compile(optimizer='adam',\n",
    "              loss='sparse_categorical_crossentropy',\n",
    "              metrics=['accuracy'])"
   ]
  },
  {
   "cell_type": "code",
   "execution_count": 6,
   "id": "4fd79314-8463-46a2-8881-7fc3112a7d83",
   "metadata": {},
   "outputs": [
    {
     "name": "stdout",
     "output_type": "stream",
     "text": [
      "Epoch 1/10\n",
      "782/782 [==============================] - 39s 49ms/step - loss: 1.4133 - accuracy: 0.5106 - val_loss: 1.2924 - val_accuracy: 0.5489\n",
      "Epoch 2/10\n",
      "782/782 [==============================] - 42s 54ms/step - loss: 1.2115 - accuracy: 0.5793 - val_loss: 1.2247 - val_accuracy: 0.5703\n",
      "Epoch 3/10\n",
      "782/782 [==============================] - 48s 62ms/step - loss: 1.1556 - accuracy: 0.5976 - val_loss: 1.1961 - val_accuracy: 0.5788\n",
      "Epoch 4/10\n",
      "782/782 [==============================] - 50s 64ms/step - loss: 1.1218 - accuracy: 0.6098 - val_loss: 1.1626 - val_accuracy: 0.5944\n",
      "Epoch 5/10\n",
      "782/782 [==============================] - 50s 64ms/step - loss: 1.0934 - accuracy: 0.6181 - val_loss: 1.1434 - val_accuracy: 0.6004\n",
      "Epoch 6/10\n",
      "782/782 [==============================] - 50s 64ms/step - loss: 1.0655 - accuracy: 0.6283 - val_loss: 1.1425 - val_accuracy: 0.5987\n",
      "Epoch 7/10\n",
      "782/782 [==============================] - 50s 64ms/step - loss: 1.0444 - accuracy: 0.6336 - val_loss: 1.1457 - val_accuracy: 0.5974\n",
      "Epoch 8/10\n",
      "782/782 [==============================] - 50s 64ms/step - loss: 1.0218 - accuracy: 0.6437 - val_loss: 1.1401 - val_accuracy: 0.6053\n",
      "Epoch 9/10\n",
      "782/782 [==============================] - 50s 64ms/step - loss: 1.0006 - accuracy: 0.6518 - val_loss: 1.1276 - val_accuracy: 0.6096\n",
      "Epoch 10/10\n",
      "782/782 [==============================] - 50s 64ms/step - loss: 0.9838 - accuracy: 0.6576 - val_loss: 1.1251 - val_accuracy: 0.6066\n"
     ]
    }
   ],
   "source": [
    "history = model.fit(x_train, y_train, epochs=10, \n",
    "                    validation_data=(x_test, y_test),\n",
    "                    batch_size=64)"
   ]
  },
  {
   "cell_type": "code",
   "execution_count": 7,
   "id": "dc0b20c8-95a0-4982-a962-e9c943653f1d",
   "metadata": {},
   "outputs": [
    {
     "name": "stdout",
     "output_type": "stream",
     "text": [
      "313/313 - 8s - loss: 1.1251 - accuracy: 0.6066 - 8s/epoch - 27ms/step\n",
      "Test accuracy: 0.6065999865531921\n"
     ]
    }
   ],
   "source": [
    "test_loss, test_acc = model.evaluate(x_test, y_test, verbose=2)\n",
    "print(f\"Test accuracy: {test_acc}\")"
   ]
  },
  {
   "cell_type": "code",
   "execution_count": 8,
   "id": "0d5c0a50-9363-4526-ae5a-8fb7ff207d4a",
   "metadata": {},
   "outputs": [
    {
     "name": "stdout",
     "output_type": "stream",
     "text": [
      "Epoch 1/10\n",
      "782/782 [==============================] - 124s 159ms/step - loss: 0.9848 - accuracy: 0.6554 - val_loss: 0.8707 - val_accuracy: 0.6957\n",
      "Epoch 2/10\n",
      "782/782 [==============================] - 126s 161ms/step - loss: 0.7314 - accuracy: 0.7421 - val_loss: 0.8000 - val_accuracy: 0.7201\n",
      "Epoch 3/10\n",
      "782/782 [==============================] - 130s 166ms/step - loss: 0.5907 - accuracy: 0.7881 - val_loss: 0.8197 - val_accuracy: 0.7240\n",
      "Epoch 4/10\n",
      "782/782 [==============================] - 133s 170ms/step - loss: 0.4668 - accuracy: 0.8337 - val_loss: 0.8168 - val_accuracy: 0.7301\n",
      "Epoch 5/10\n",
      "782/782 [==============================] - 132s 169ms/step - loss: 0.3700 - accuracy: 0.8672 - val_loss: 0.8499 - val_accuracy: 0.7357\n",
      "Epoch 6/10\n",
      "782/782 [==============================] - 133s 170ms/step - loss: 0.2725 - accuracy: 0.9014 - val_loss: 0.8987 - val_accuracy: 0.7374\n",
      "Epoch 7/10\n",
      "782/782 [==============================] - 134s 171ms/step - loss: 0.1967 - accuracy: 0.9317 - val_loss: 1.0433 - val_accuracy: 0.7323\n",
      "Epoch 8/10\n",
      "782/782 [==============================] - 133s 170ms/step - loss: 0.1501 - accuracy: 0.9468 - val_loss: 1.0327 - val_accuracy: 0.7444\n",
      "Epoch 9/10\n",
      "782/782 [==============================] - 133s 170ms/step - loss: 0.1235 - accuracy: 0.9568 - val_loss: 1.1073 - val_accuracy: 0.7428\n",
      "Epoch 10/10\n",
      "782/782 [==============================] - 133s 170ms/step - loss: 0.1029 - accuracy: 0.9657 - val_loss: 1.1851 - val_accuracy: 0.7422\n"
     ]
    }
   ],
   "source": [
    "base_model.trainable = True\n",
    "\n",
    "# Fine-tune from a specific layer onward\n",
    "fine_tune_at = 15\n",
    "for layer in base_model.layers[:fine_tune_at]:\n",
    "    layer.trainable =  False\n",
    "\n",
    "# Recompile the model\n",
    "model.compile(optimizer=tf.keras.optimizers.Adam(learning_rate=0.0001),\n",
    "              loss='sparse_categorical_crossentropy',\n",
    "              metrics=['accuracy'])\n",
    "\n",
    "# Fine-tune the model\n",
    "history_fine = model.fit(x_train, y_train, epochs=10,\n",
    "                         validation_data=(x_test, y_test),\n",
    "                         batch_size=64)"
   ]
  },
  {
   "cell_type": "code",
   "execution_count": 9,
   "id": "3a2bb5c3-24fb-4e93-9014-4358e478e2f0",
   "metadata": {},
   "outputs": [
    {
     "name": "stdout",
     "output_type": "stream",
     "text": [
      "313/313 - 9s - loss: 1.1851 - accuracy: 0.7422 - 9s/epoch - 28ms/step\n",
      "Test accuracy after fine-tuning: 0.7422000169754028\n"
     ]
    }
   ],
   "source": [
    "test_loss, test_acc = model.evaluate(x_test, y_test, verbose=2)\n",
    "print(f\"Test accuracy after fine-tuning: {test_acc}\")"
   ]
  },
  {
   "cell_type": "code",
   "execution_count": 10,
   "id": "9208cf4c-c234-4420-b3e9-0d21beeaa509",
   "metadata": {},
   "outputs": [
    {
     "data": {
      "image/png": "[encoded data removed]",
      "text/plain": [
       "<Figure size 864x360 with 2 Axes>"
      ]
     },
     "metadata": {
      "needs_background": "light"
     },
     "output_type": "display_data"
    }
   ],
   "source": [
    "import matplotlib.pyplot as plt\n",
    "\n",
    "# Plot training & validation accuracy values\n",
    "plt.figure(figsize=(12, 5))\n",
    "\n",
    "# Plot accuracy\n",
    "plt.subplot(1, 2, 1)\n",
    "plt.plot(history.history['accuracy'], label='Train Accuracy')\n",
    "plt.plot(history.history['val_accuracy'], label='Validation Accuracy')\n",
    "plt.title('Model Accuracy')\n",
    "plt.xlabel('Epoch')\n",
    "plt.ylabel('Accuracy')\n",
    "plt.legend()\n",
    "\n",
    "# Plot loss\n",
    "plt.subplot(1, 2, 2)\n",
    "plt.plot(history.history['loss'], label='Train Loss')\n",
    "plt.plot(history.history['val_loss'], label='Validation Loss')\n",
    "plt.title('Model Loss')\n",
    "plt.xlabel('Epoch')\n",
    "plt.ylabel('Loss')\n",
    "plt.legend()\n",
    "\n",
    "# Show plots\n",
    "plt.tight_layout()\n",
    "plt.show()\n"
   ]
  },
  {
   "cell_type": "code",
   "execution_count": null,
   "id": "2bc5fe12-669e-4765-bfa2-5727f5a21afe",
   "metadata": {},
   "outputs": [],
   "source": []
  }
 ],
 "metadata": {
  "kernelspec": {
   "display_name": "Python 3 (ipykernel)",
   "language": "python",
   "name": "python3"
  },
  "language_info": {
   "codemirror_mode": {
    "name": "ipython",
    "version": 3
   },
   "file_extension": ".py",
   "mimetype": "text/x-python",
   "name": "python",
   "nbconvert_exporter": "python",
   "pygments_lexer": "ipython3",
   "version": "3.9.13"
  }
 },
 "nbformat": 4,
 "nbformat_minor": 5
}
